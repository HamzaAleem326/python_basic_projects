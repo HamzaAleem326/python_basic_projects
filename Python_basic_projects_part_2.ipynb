{
  "nbformat": 4,
  "nbformat_minor": 0,
  "metadata": {
    "colab": {
      "provenance": [],
      "authorship_tag": "ABX9TyP30yo83XtTLvTbIIN/oD6i",
      "include_colab_link": true
    },
    "kernelspec": {
      "name": "python3",
      "display_name": "Python 3"
    },
    "language_info": {
      "name": "python"
    }
  },
  "cells": [
    {
      "cell_type": "markdown",
      "metadata": {
        "id": "view-in-github",
        "colab_type": "text"
      },
      "source": [
        "<a href=\"https://colab.research.google.com/github/HamzaAleem326/python_basic_projects/blob/main/Python_basic_projects_part_2.ipynb\" target=\"_parent\"><img src=\"https://colab.research.google.com/assets/colab-badge.svg\" alt=\"Open In Colab\"/></a>"
      ]
    },
    {
      "cell_type": "code",
      "execution_count": 24,
      "metadata": {
        "id": "DXrtlo9E6mIn",
        "colab": {
          "base_uri": "https://localhost:8080/"
        },
        "outputId": "02d3b2e5-d8bc-4a47-9151-3b17997c1450"
      },
      "outputs": [
        {
          "output_type": "stream",
          "name": "stdout",
          "text": [
            "3\n",
            "6\n"
          ]
        }
      ],
      "source": [
        "# method overloading in polymorphism\n",
        "\n",
        "class Calculator:\n",
        "  def add(self, a: int, b: int, c: None | int = None):\n",
        "    if not c:\n",
        "      return a + b\n",
        "    return a + b + c\n",
        "\n",
        "\n",
        "calc = Calculator()\n",
        "print(calc.add(1, 2))\n",
        "print(calc.add(1, 2, 3))"
      ]
    },
    {
      "cell_type": "code",
      "source": [
        "# Method overriding in polymorphism\n",
        "\n",
        "class Animal:\n",
        "  def make_sound(self):\n",
        "    print(\"Animal makes a sound\")\n",
        "\n",
        "\n",
        "class Dog(Animal):\n",
        "  def make_sound(self):\n",
        "    print(\"barks\")\n",
        "\n",
        "class Cat(Animal):\n",
        "  def make_sound(self):\n",
        "    print(\"meows\")\n",
        "\n",
        "animal = Animal()\n",
        "dog = Dog()\n",
        "cat = Cat()\n",
        "\n",
        "animal.make_sound()\n",
        "dog.make_sound()\n",
        "cat.make_sound()"
      ],
      "metadata": {
        "colab": {
          "base_uri": "https://localhost:8080/"
        },
        "id": "vxETNlvsmoxR",
        "outputId": "305c4fd7-d0a1-4d34-b16b-2cdb14d0ee60"
      },
      "execution_count": 25,
      "outputs": [
        {
          "output_type": "stream",
          "name": "stdout",
          "text": [
            "Animal makes a sound\n",
            "barks\n",
            "meows\n"
          ]
        }
      ]
    },
    {
      "cell_type": "markdown",
      "source": [
        "## (high low version)guess the number game in oops"
      ],
      "metadata": {
        "id": "c-z5FioNzLJt"
      }
    },
    {
      "cell_type": "code",
      "source": [
        "import random\n",
        "from enum import Enum\n",
        "\n",
        "\n",
        "class Guess(Enum):\n",
        "    HIGHER = \"higher\"\n",
        "    LOWER = \"lower\"\n",
        "\n",
        "\n",
        "class Player:\n",
        "    def __init__(self, name: str):\n",
        "        self.name = name\n",
        "        self._score = 0\n",
        "\n",
        "    def update_score(self, points: int) -> None:\n",
        "        self._score += points\n",
        "\n",
        "    @property\n",
        "    def score(self) -> int:\n",
        "        return self._score\n",
        "\n",
        "\n",
        "class NumberPair:\n",
        "    def __init__(self, min_val: int = 1, max_val: int = 100):\n",
        "        self.player_num = random.randint(min_val, max_val)\n",
        "        self.computer_num = random.randint(min_val, max_val)\n",
        "\n",
        "    def evaluate_guess(self, guess: Guess) -> bool:\n",
        "        is_higher = self.player_num > self.computer_num\n",
        "        return (guess == Guess.HIGHER and is_higher) or (guess == Guess.LOWER and not is_higher)\n",
        "\n",
        "\n",
        "class GameUI:\n",
        "    @staticmethod\n",
        "    def welcome() -> None:\n",
        "        print(\"\\n🎮 High-Low Game! Guess if your number is higher or lower.\")\n",
        "\n",
        "    @staticmethod\n",
        "    def show_round(round_num: int, total: int, player_num: int) -> None:\n",
        "        print(f\"\\nRound {round_num}/{total} - Your number: {player_num}\")\n",
        "\n",
        "    @staticmethod\n",
        "    def get_guess() -> Guess:\n",
        "        while True:\n",
        "            choice = input(\"Higher or Lower? (h/l): \").lower()\n",
        "            if choice in ['h', 'higher']: return Guess.HIGHER\n",
        "            if choice in ['l', 'lower']: return Guess.LOWER\n",
        "            print(\"Enter 'h' or 'l'\")\n",
        "\n",
        "    @staticmethod\n",
        "    def show_result(correct: bool, computer_num: int, score: int) -> None:\n",
        "        result = \"✅ Correct!\" if correct else \"❌ Wrong!\"\n",
        "        points = \"+10\" if correct else \"-5\"\n",
        "        print(f\"{result} Computer: {computer_num} ({points}) Score: {score}\")\n",
        "\n",
        "    @staticmethod\n",
        "    def show_final(player: Player) -> None:\n",
        "        print(f\"\\n🏁 Game Over! {player.name} final score: {player.score}\")\n",
        "\n",
        "\n",
        "class Game:\n",
        "    def __init__(self, rounds: int = 5):\n",
        "        self.rounds = rounds\n",
        "        self.ui = GameUI()\n",
        "\n",
        "    def play(self, player: Player) -> None:\n",
        "        self.ui.welcome()\n",
        "\n",
        "        for round_num in range(1, self.rounds + 1):\n",
        "            numbers = NumberPair()\n",
        "            self.ui.show_round(round_num, self.rounds, numbers.player_num)\n",
        "\n",
        "            guess = self.ui.get_guess()\n",
        "            correct = numbers.evaluate_guess(guess)\n",
        "\n",
        "            player.update_score(10 if correct else -5)\n",
        "            self.ui.show_result(correct, numbers.computer_num, player.score)\n",
        "\n",
        "        self.ui.show_final(player)\n",
        "\n",
        "\n",
        "# Main execution\n",
        "if __name__ == \"__main__\":\n",
        "    player = Player(input(\"Enter your name: \") or \"Player\")\n",
        "    game = Game(5)\n",
        "    game.play(player)"
      ],
      "metadata": {
        "id": "8-brh7DNHpVc"
      },
      "execution_count": null,
      "outputs": []
    }
  ]
}