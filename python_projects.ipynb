{
  "nbformat": 4,
  "nbformat_minor": 0,
  "metadata": {
    "colab": {
      "provenance": [],
      "authorship_tag": "ABX9TyPcHMSSsP1aHf2jNcQE1sAa",
      "include_colab_link": true
    },
    "kernelspec": {
      "name": "python3",
      "display_name": "Python 3"
    },
    "language_info": {
      "name": "python"
    }
  },
  "cells": [
    {
      "cell_type": "markdown",
      "metadata": {
        "id": "view-in-github",
        "colab_type": "text"
      },
      "source": [
        "<a href=\"https://colab.research.google.com/github/HamzaAleem326/python_basic_projects/blob/main/python_projects.ipynb\" target=\"_parent\"><img src=\"https://colab.research.google.com/assets/colab-badge.svg\" alt=\"Open In Colab\"/></a>"
      ]
    },
    {
      "cell_type": "code",
      "execution_count": null,
      "metadata": {
        "id": "QCf9h_ne9ucp"
      },
      "outputs": [],
      "source": [
        "# joke bot\n",
        "\n",
        "prompt:str = 'what do you want: '\n",
        "apologise:str = 'sorry i only tell jokes'\n",
        "joke:str = '''Why did the function break up with the loop?\n",
        "Because it felt trapped in a never-ending relationship!'''\n",
        "\n",
        "def joke_bot():\n",
        "\n",
        "  user_input = input(prompt).lower()\n",
        "  if 'joke' in user_input:\n",
        "    print(joke)\n",
        "  else:\n",
        "    print(apologise)\n",
        "\n",
        "joke_bot()"
      ]
    },
    {
      "cell_type": "code",
      "source": [
        "def double_it():\n",
        "  # double the number until 100\n",
        "  user_input = int(input('Enter a number: '))\n",
        "\n",
        "  while (user_input <= 100):\n",
        "    temp_num = user_input\n",
        "    user_input *= 2\n",
        "    print(f'{temp_num} doubled is {user_input}')\n",
        "double_it()"
      ],
      "metadata": {
        "id": "mvQYRUwhK3MU"
      },
      "execution_count": null,
      "outputs": []
    },
    {
      "cell_type": "code",
      "source": [
        "import time\n",
        "\n",
        "for i in range(10,0,-1):\n",
        "  time.sleep(1)\n",
        "  print(i,end=' ')\n",
        "\n",
        "print('liftoff!')"
      ],
      "metadata": {
        "colab": {
          "base_uri": "https://localhost:8080/"
        },
        "id": "dcuXE6h7QxSf",
        "outputId": "064c2eda-88ad-4b64-a69b-474af2299d0b"
      },
      "execution_count": null,
      "outputs": [
        {
          "output_type": "stream",
          "name": "stdout",
          "text": [
            "10 9 8 7 6 5 4 3 2 1 liftoff!\n"
          ]
        }
      ]
    }
  ]
}