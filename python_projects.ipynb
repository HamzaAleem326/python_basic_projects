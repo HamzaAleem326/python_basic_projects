{
  "nbformat": 4,
  "nbformat_minor": 0,
  "metadata": {
    "colab": {
      "provenance": [],
      "authorship_tag": "ABX9TyPUYRiU8oyIsvW3ObOatE0P",
      "include_colab_link": true
    },
    "kernelspec": {
      "name": "python3",
      "display_name": "Python 3"
    },
    "language_info": {
      "name": "python"
    }
  },
  "cells": [
    {
      "cell_type": "markdown",
      "metadata": {
        "id": "view-in-github",
        "colab_type": "text"
      },
      "source": [
        "<a href=\"https://colab.research.google.com/github/HamzaAleem326/python_basic_projects/blob/main/python_projects.ipynb\" target=\"_parent\"><img src=\"https://colab.research.google.com/assets/colab-badge.svg\" alt=\"Open In Colab\"/></a>"
      ]
    },
    {
      "cell_type": "code",
      "execution_count": null,
      "metadata": {
        "id": "QCf9h_ne9ucp"
      },
      "outputs": [],
      "source": [
        "# joke bot\n",
        "\n",
        "prompt:str = 'what do you want: '\n",
        "apologise:str = 'sorry i only tell jokes'\n",
        "joke:str = '''Why did the function break up with the loop?\n",
        "Because it felt trapped in a never-ending relationship!'''\n",
        "\n",
        "def joke_bot():\n",
        "\n",
        "  user_input = input(prompt).lower()\n",
        "  if 'joke' in user_input:\n",
        "    print(joke)\n",
        "  else:\n",
        "    print(apologise)\n",
        "\n",
        "joke_bot()"
      ]
    },
    {
      "cell_type": "code",
      "source": [
        "# double the number until 100\n",
        "\n",
        "def double_it():\n",
        "  user_input = int(input('Enter a number: '))\n",
        "\n",
        "  while (user_input <= 100):\n",
        "    temp_num = user_input\n",
        "    user_input *= 2\n",
        "    print(f'{temp_num} doubled is {user_input}')\n",
        "double_it()"
      ],
      "metadata": {
        "id": "mvQYRUwhK3MU"
      },
      "execution_count": null,
      "outputs": []
    },
    {
      "cell_type": "code",
      "source": [
        "# Stop watch\n",
        "\n",
        "import time\n",
        "def stop_watch():\n",
        "  for i in range(10,0,-1):\n",
        "    time.sleep(1)\n",
        "    print(i,end=' ')\n",
        "stop_watch()\n",
        "print('liftoff!')"
      ],
      "metadata": {
        "id": "dcuXE6h7QxSf"
      },
      "execution_count": null,
      "outputs": []
    },
    {
      "cell_type": "code",
      "source": [
        "# guess the number game in python\n",
        "import random\n",
        "\n",
        "random_int = random.randint(1, 50)\n",
        "user_attempts = 0\n",
        "attempts_remaining = 7\n",
        "\n",
        "while True:\n",
        "  print(f'attemps remaining: {attempts_remaining - user_attempts}')\n",
        "\n",
        "  if user_attempts == attempts_remaining:\n",
        "    print('GAME OVER')\n",
        "    break\n",
        "\n",
        "  user_input = int(input('Enter a number: '))\n",
        "  user_attempts += 1\n",
        "\n",
        "  if user_input == random_int:\n",
        "    print('YOU WIN')\n",
        "    break\n",
        "  elif user_input > random_int:\n",
        "    print('TOO HIGH')\n",
        "  elif user_input < random_int:\n",
        "    print('TOO LOW')\n",
        "  else:\n",
        "    print('INVALID INPUT')"
      ],
      "metadata": {
        "id": "QcDFaRAMzNYA"
      },
      "execution_count": null,
      "outputs": []
    },
    {
      "cell_type": "code",
      "source": [
        "# random number generator\n",
        "import random\n",
        "\n",
        "MIN_NUMBER = 1\n",
        "MAX_NUMBER = 100\n",
        "N_NUMBER_GENERATOR = 10\n",
        "\n",
        "for i in range(N_NUMBER_GENERATOR):\n",
        "  print(random.randint(MIN_NUMBER,MAX_NUMBER), end=' ')"
      ],
      "metadata": {
        "id": "c0vsLmOrEnvf"
      },
      "execution_count": null,
      "outputs": []
    },
    {
      "cell_type": "code",
      "source": [
        "# calculate the weight on different planets\n",
        "\n",
        "planet_constants = {\n",
        "    \"MERCURY\": 0.376,\n",
        "    \"VENUS\": 0.889,\n",
        "    \"MARS\": 0.378,\n",
        "    \"JUPITER\": 2.360,\n",
        "    \"SATURN\": 1.081,\n",
        "    \"URANUS\": 0.815,\n",
        "    \"NEPTUNE\": 1.140\n",
        "}"
      ],
      "metadata": {
        "id": "-L_XSxxTWpwk"
      },
      "execution_count": null,
      "outputs": []
    },
    {
      "cell_type": "code",
      "source": [
        "def calculate_weight_on_planet(earth_weight,planet):\n",
        "  if planet in planet_constants:\n",
        "    weight_on_planet = earth_weight * planet_constants[planet]\n",
        "    return f'weight on your {planet} is {weight_on_planet}'\n",
        "  else:\n",
        "    return 'invalid planet'\n",
        "\n",
        "def main():\n",
        "  while True:\n",
        "    try:\n",
        "      earth_weight = float(input('Enter your weight on earth: '))\n",
        "      break\n",
        "    except ValueError:\n",
        "      print('weight must be a numeric value')\n",
        "\n",
        "  planet = input('Enter the name of the planet in our solar system: ')\n",
        "  print(calculate_weight_on_planet(earth_weight, planet))"
      ],
      "metadata": {
        "id": "b2fxbussXHEO"
      },
      "execution_count": 6,
      "outputs": []
    },
    {
      "cell_type": "code",
      "source": [
        "main()"
      ],
      "metadata": {
        "id": "klvDYemXY_xT"
      },
      "execution_count": null,
      "outputs": []
    },
    {
      "cell_type": "code",
      "source": [
        "# guess the number advanced version\n",
        "\n",
        "import random\n",
        "\n",
        "NUM_ROUNDS = 5\n",
        "current_round = 0\n",
        "score = 0\n",
        "\n",
        "while True:\n",
        "  current_round += 1\n",
        "  print(f'round {current_round}')\n",
        "\n",
        "  if current_round > NUM_ROUNDS:\n",
        "    print('GAME OVER')\n",
        "    break\n",
        "\n",
        "  print('welcome to high_low game')\n",
        "  print('------------------------')\n",
        "\n",
        "  user_number = random.randint(1, 100)\n",
        "  computer_number = random.randint(1,100)\n",
        "\n",
        "  print(f'your number: {user_number}')\n",
        "  print(f'computer number: {computer_number}')\n",
        "\n",
        "  high_low_choice = input('do you think your number is higher or lower than the computer number(high/low): ')\n",
        "  print(high_low_choice)\n",
        "\n",
        "  is_user_higher_than_computer:bool = True if user_number > computer_number else False\n",
        "  is_user_choice_correct:bool = True if high_low_choice == 'high' and is_user_higher_than_computer or high_low_choice == 'low' and not is_user_higher_than_computer else False\n",
        "\n",
        "  if is_user_choice_correct:\n",
        "    print('you win')\n",
        "    score += 1\n",
        "  else:\n",
        "    print('you lose')\n",
        "\n",
        "print(f'your score is {score}')"
      ],
      "metadata": {
        "id": "t0-O17WUaU6a"
      },
      "execution_count": null,
      "outputs": []
    }
  ]
}